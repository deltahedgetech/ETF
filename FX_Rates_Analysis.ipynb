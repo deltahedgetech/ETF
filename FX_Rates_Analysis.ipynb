{
 "cells": [
  {
   "cell_type": "code",
   "execution_count": null,
   "metadata": {},
   "outputs": [],
   "source": [
    "import matplotlib.pyplot as plt\n",
    "from datetime import datetime, timedelta\n",
    "import quandl\n",
    "import pandas as pd\n",
    "import numpy as np\n",
    "from IPython.core.display import display, HTML\n",
    "display(HTML(\"<style>.container { width:100% !important; }</style>\"))\n",
    "pd.set_option('display.max_columns', 50)\n",
    "%matplotlib inline\n",
    "\n",
    "from matplotlib.colors import LinearSegmentedColormap\n",
    "cm = LinearSegmentedColormap.from_list(\n",
    "   name='test', \n",
    "   #colors=['red','white','green','white','red']\n",
    "   colors=['#FF7575', '#00FF66'], N=100\n",
    ")\n",
    "\n",
    "def get_start_end_dates(days=10):\n",
    "    end = datetime.today() \n",
    "    start = end - timedelta()\n",
    "    return start.strftime('%Y-%m-%d'), end.strftime('%Y-%m-%d')\n",
    "\n"
   ]
  },
  {
   "cell_type": "code",
   "execution_count": null,
   "metadata": {},
   "outputs": [],
   "source": [
    "eur_ecb_pairs = [\n",
    "'EURUSD','EURGBP','EURAUD','EURNZD','EURJPY','EURCNY','EURCHF','EURCAD','EURMXN','EURINR','EURBRL',\n",
    "'EURRUB','EURKRW','EURIDR','EURSEK','EURSGD','EURNOK','EURZAR','EURDKK','EURISK','EURCZK','EURHKD',\n",
    "'EURTRY']\n",
    "\n",
    "non_eur_pairs = [\n",
    "'USD/JPY','GBP/USD','USD/CHF','USD/CAD','AUD/USD','NZD/USD','AUD/JPY','GBP/JPY','CHF/JPY','AUD/CAD','CAD/JPY',\n",
    "'NZD/JPY','AUD/NZD','GBP/AUD','GBP/CHF','AUD/CHF','GBP/NZD','USD/INR','USD/CNY','USD/SGD','USD/HKD',\n",
    "'USD/DKK','GBP/CAD','USD/SEK','USD/RUB','USD/TRY','USD/MXN','USD/ZAR','USD/KRW','CAD/CHF','NZD/CAD',\n",
    "'NZD/CHF','USD/NOK', 'SEK/NOK','SEK/DKK','NOK/DKK','GBP/SEK']\n",
    "\n",
    "rates_df = [quandl.get(\"ECB/\" + pair, authtoken=API_KEY) for pair in eur_ecb_pairs]\n",
    "rates_df = pd.concat(rates_df,axis=1)\n",
    "rates_df.columns = eur_ecb_pairs\n",
    "\n",
    "for pair in non_eur_pairs:\n",
    "    print(pair)\n",
    "    cross_pair = ['EUR' + i for i in pair.split('/')]\n",
    "    rates_df[pair.replace('/','')] = rates_df[cross_pair[1]] / rates_df[cross_pair[0]]\n",
    "  \n",
    "rates_df.tail()"
   ]
  },
  {
   "cell_type": "code",
   "execution_count": null,
   "metadata": {},
   "outputs": [],
   "source": [
    "rates_df.to_pickle('rates.pickle')"
   ]
  },
  {
   "cell_type": "code",
   "execution_count": null,
   "metadata": {},
   "outputs": [],
   "source": [
    "df = rates_df[rates_df.index >= '2019-11-01']\n",
    "rets = np.log(df/df.shift(1))\n",
    "rets = rets.T\n",
    "rets[rets.columns[0]] = 0\n",
    "rets = rets.cumsum(axis=1) #CUMSUM()\n",
    "rets.dropna(axis=0, inplace=True)\n",
    "\n",
    "rets.columns = rets.columns.strftime('%d-%b')\n",
    "rets = rets.sort_values(by=rets.columns[-1],ascending=False)\n",
    "rets.style.format('{:,.2%}').background_gradient(cmap=cm,axis=1)"
   ]
  },
  {
   "cell_type": "code",
   "execution_count": null,
   "metadata": {},
   "outputs": [],
   "source": [
    "def bolinger_bands(price, window_size1, window_size2, num_of_std):\n",
    "\n",
    "    rolling_mean1 = price.rolling(window=window_size1).mean()\n",
    "    rolling_mean2 = price.rolling(window=window_size2).mean()\n",
    "    \n",
    "    rolling_std1  = price.rolling(window=window_size1).std()\n",
    "    rolling_std2  = price.rolling(window=window_size2).std()\n",
    "   \n",
    "    upper_band1 = rolling_mean1 + (rolling_std1*num_of_std)\n",
    "    lower_band1 = rolling_mean1 - (rolling_std1*num_of_std)\n",
    "\n",
    "    upper_band2 = rolling_mean2 + (rolling_std2*num_of_std)\n",
    "    lower_band2 = rolling_mean2 - (rolling_std2*num_of_std)\n",
    "\n",
    "    df = pd.concat([price, rolling_mean1, rolling_mean2, upper_band1, lower_band2, upper_band2, lower_band2], axis=1)\n",
    "    df.columns = [price.columns[0], \n",
    "                  f'{window_size1}d_avg',\n",
    "                  f'{window_size2}d_avg', \n",
    "                  f'+{num_of_std} std {window_size1}', \n",
    "                  f'-{num_of_std} std {window_size1}',\n",
    "                  f'+{num_of_std} std {window_size2}', \n",
    "                  f'-{num_of_std} std {window_size2}']\n",
    "    return df\n",
    "\n",
    "temp = bolinger_bands(rates_df.filter(regex=(\"GBPSEK\")),50, 200,2)\n",
    "temp[temp.index.year >= 2017].plot(grid=True, figsize=(20,10))"
   ]
  },
  {
   "cell_type": "code",
   "execution_count": null,
   "metadata": {},
   "outputs": [],
   "source": [
    "pd.DataFrame([(i,df[i].mean(),df[i].std(),df[i].skew(), df[i].kurt()) for i in df.columns], columns = ['Pair','Mean', 'Std', 'Skew', 'Kurt'])"
   ]
  },
  {
   "cell_type": "code",
   "execution_count": null,
   "metadata": {},
   "outputs": [],
   "source": [
    "import matplotlib.pyplot as plt \n",
    "import numpy as np\n",
    "from scipy import stats\n",
    "def lin_reg_slope(ts): \n",
    "    x= np.arange(len(ts))\n",
    "    y= ts\n",
    "    gradient, intercept, r_value, p_value, std_err = stats.linregress(x,y)\n",
    "    mn=np.min(x)\n",
    "    mx=np.max(x)\n",
    "    x1=np.linspace(mn,mx,500)\n",
    "    y1=gradient*x1+intercept\n",
    "    plt.plot(x,y,'ob')\n",
    "    plt.plot(x1,y1,'-r')\n",
    "    plt.grid(True)\n",
    "    plt.show()"
   ]
  },
  {
   "cell_type": "code",
   "execution_count": null,
   "metadata": {},
   "outputs": [],
   "source": [
    "lin_reg_slope(df['EURUSD'])"
   ]
  },
  {
   "cell_type": "code",
   "execution_count": null,
   "metadata": {},
   "outputs": [],
   "source": []
  },
  {
   "cell_type": "code",
   "execution_count": null,
   "metadata": {},
   "outputs": [],
   "source": []
  },
  {
   "cell_type": "code",
   "execution_count": null,
   "metadata": {},
   "outputs": [],
   "source": []
  },
  {
   "cell_type": "code",
   "execution_count": null,
   "metadata": {},
   "outputs": [],
   "source": []
  },
  {
   "cell_type": "code",
   "execution_count": null,
   "metadata": {},
   "outputs": [],
   "source": []
  },
  {
   "cell_type": "code",
   "execution_count": null,
   "metadata": {},
   "outputs": [],
   "source": []
  },
  {
   "cell_type": "code",
   "execution_count": null,
   "metadata": {},
   "outputs": [],
   "source": []
  }
 ],
 "metadata": {
  "kernelspec": {
   "display_name": "Python 3",
   "language": "python",
   "name": "python3"
  },
  "language_info": {
   "codemirror_mode": {
    "name": "ipython",
    "version": 3
   },
   "file_extension": ".py",
   "mimetype": "text/x-python",
   "name": "python",
   "nbconvert_exporter": "python",
   "pygments_lexer": "ipython3",
   "version": "3.7.4"
  }
 },
 "nbformat": 4,
 "nbformat_minor": 2
}
